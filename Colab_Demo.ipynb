{
  "cells": [
    {
      "cell_type": "code",
      "execution_count": null,
      "metadata": {
        "colab": {
          "base_uri": "https://localhost:8080/"
        },
        "id": "VbSZt0WmJuOG",
        "outputId": "f21f80e4-a3b9-451e-f597-7b94c121e751"
      },
      "outputs": [],
      "source": [
        "!git clone https://github.com/AbdElrahman-A-Eid/table_parse_using_table_transformers.git\n",
        "%cd table_parse_using_table_transformers\n",
        "!pip install -r requirements.txt  # Install dependencies"
      ]
    },
    {
      "cell_type": "code",
      "execution_count": null,
      "metadata": {
        "colab": {
          "base_uri": "https://localhost:8080/"
        },
        "id": "t_2XYN4pw6WG",
        "outputId": "d0f8bd23-ab26-40c2-9ec0-0b594414513c"
      },
      "outputs": [],
      "source": [
        "!npm install localtunnel"
      ]
    },
    {
      "cell_type": "code",
      "execution_count": 51,
      "metadata": {
        "id": "wg14yc0hxZDu"
      },
      "outputs": [],
      "source": [
        "!streamlit run app.py &>/content/logs.txt &"
      ]
    },
    {
      "cell_type": "markdown",
      "metadata": {
        "id": "aw_cDwwoWM9m"
      },
      "source": [
        "🔼 Logs can be found in `/content/logs.txt` 🔼"
      ]
    },
    {
      "cell_type": "code",
      "execution_count": null,
      "metadata": {
        "colab": {
          "base_uri": "https://localhost:8080/"
        },
        "id": "CZ5KnDqny_NJ",
        "outputId": "1a47a1ca-64b3-4d34-e8c2-1c22271172a5"
      },
      "outputs": [],
      "source": [
        "!curl https://loca.lt/mytunnelpassword"
      ]
    },
    {
      "cell_type": "markdown",
      "metadata": {
        "id": "-82ajPG8VyAa"
      },
      "source": [
        "🔼 COPY this IP address to be used as a password 🔼"
      ]
    },
    {
      "cell_type": "code",
      "execution_count": null,
      "metadata": {
        "colab": {
          "base_uri": "https://localhost:8080/"
        },
        "id": "nTW7bmh-xw7X",
        "outputId": "a671be21-b796-496a-f18e-d807416bb542"
      },
      "outputs": [],
      "source": [
        "!npx localtunnel --port 8501"
      ]
    },
    {
      "cell_type": "markdown",
      "metadata": {
        "id": "ByexwmjGWDXw"
      },
      "source": [
        "🔼 Proceed to the link and use the IP as the password 🔼"
      ]
    },
    {
      "cell_type": "markdown",
      "metadata": {
        "id": "xXRBX1G9VgAd"
      },
      "source": [
        "----------------------\n",
        "Wish you a great day! ❤\n",
        "\n",
        "By: [Abdelrahman A. Eid](https://github.com/AbdElrahman-A-Eid/table_parse_using_table_transformers)"
      ]
    }
  ],
  "metadata": {
    "accelerator": "GPU",
    "colab": {
      "gpuType": "T4",
      "provenance": []
    },
    "kernelspec": {
      "display_name": "Python 3",
      "name": "python3"
    },
    "language_info": {
      "name": "python"
    }
  },
  "nbformat": 4,
  "nbformat_minor": 0
}
